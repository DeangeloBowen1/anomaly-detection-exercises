{
 "cells": [
  {
   "cell_type": "code",
   "execution_count": 1,
   "id": "10409881",
   "metadata": {},
   "outputs": [],
   "source": [
    "import numpy as np\n",
    "import pandas as pd\n",
    "import seaborn as sns\n",
    "import matplotlib.pyplot as plt\n",
    "%matplotlib inline\n",
    "\n",
    "url = \"lemonade.csv\"\n",
    "df = pd.read_csv(url)"
   ]
  },
  {
   "cell_type": "code",
   "execution_count": 2,
   "id": "3a5eabd4",
   "metadata": {
    "scrolled": true
   },
   "outputs": [
    {
     "data": {
      "text/html": [
       "<div>\n",
       "<style scoped>\n",
       "    .dataframe tbody tr th:only-of-type {\n",
       "        vertical-align: middle;\n",
       "    }\n",
       "\n",
       "    .dataframe tbody tr th {\n",
       "        vertical-align: top;\n",
       "    }\n",
       "\n",
       "    .dataframe thead th {\n",
       "        text-align: right;\n",
       "    }\n",
       "</style>\n",
       "<table border=\"1\" class=\"dataframe\">\n",
       "  <thead>\n",
       "    <tr style=\"text-align: right;\">\n",
       "      <th></th>\n",
       "      <th>Date</th>\n",
       "      <th>Day</th>\n",
       "      <th>Temperature</th>\n",
       "      <th>Rainfall</th>\n",
       "      <th>Flyers</th>\n",
       "      <th>Price</th>\n",
       "      <th>Sales</th>\n",
       "    </tr>\n",
       "  </thead>\n",
       "  <tbody>\n",
       "    <tr>\n",
       "      <th>0</th>\n",
       "      <td>1/1/17</td>\n",
       "      <td>Sunday</td>\n",
       "      <td>27.0</td>\n",
       "      <td>2.00</td>\n",
       "      <td>15</td>\n",
       "      <td>0.5</td>\n",
       "      <td>10</td>\n",
       "    </tr>\n",
       "    <tr>\n",
       "      <th>1</th>\n",
       "      <td>1/2/17</td>\n",
       "      <td>Monday</td>\n",
       "      <td>28.9</td>\n",
       "      <td>1.33</td>\n",
       "      <td>15</td>\n",
       "      <td>0.5</td>\n",
       "      <td>13</td>\n",
       "    </tr>\n",
       "    <tr>\n",
       "      <th>2</th>\n",
       "      <td>1/3/17</td>\n",
       "      <td>Tuesday</td>\n",
       "      <td>34.5</td>\n",
       "      <td>1.33</td>\n",
       "      <td>27</td>\n",
       "      <td>0.5</td>\n",
       "      <td>15</td>\n",
       "    </tr>\n",
       "    <tr>\n",
       "      <th>3</th>\n",
       "      <td>1/4/17</td>\n",
       "      <td>Wednesday</td>\n",
       "      <td>44.1</td>\n",
       "      <td>1.05</td>\n",
       "      <td>28</td>\n",
       "      <td>0.5</td>\n",
       "      <td>17</td>\n",
       "    </tr>\n",
       "    <tr>\n",
       "      <th>4</th>\n",
       "      <td>1/5/17</td>\n",
       "      <td>Thursday</td>\n",
       "      <td>42.4</td>\n",
       "      <td>1.00</td>\n",
       "      <td>33</td>\n",
       "      <td>0.5</td>\n",
       "      <td>18</td>\n",
       "    </tr>\n",
       "  </tbody>\n",
       "</table>\n",
       "</div>"
      ],
      "text/plain": [
       "     Date        Day  Temperature  Rainfall  Flyers  Price  Sales\n",
       "0  1/1/17     Sunday         27.0      2.00      15    0.5     10\n",
       "1  1/2/17     Monday         28.9      1.33      15    0.5     13\n",
       "2  1/3/17    Tuesday         34.5      1.33      27    0.5     15\n",
       "3  1/4/17  Wednesday         44.1      1.05      28    0.5     17\n",
       "4  1/5/17   Thursday         42.4      1.00      33    0.5     18"
      ]
     },
     "execution_count": 2,
     "metadata": {},
     "output_type": "execute_result"
    }
   ],
   "source": [
    "# sanity check \n",
    "df.head()"
   ]
  },
  {
   "cell_type": "markdown",
   "id": "8a3de251",
   "metadata": {},
   "source": [
    "---"
   ]
  },
  {
   "cell_type": "markdown",
   "id": "83e8030c",
   "metadata": {},
   "source": [
    "### Functions:"
   ]
  },
  {
   "cell_type": "markdown",
   "id": "95fd86dc",
   "metadata": {},
   "source": [
    "Define a function named get_lower_and_upper_bounds that has two arguments. The first argument is a pandas Series. The second argument is the multiplier, which should have a default argument of 1.5."
   ]
  },
  {
   "cell_type": "code",
   "execution_count": 3,
   "id": "56bb7e70",
   "metadata": {},
   "outputs": [],
   "source": [
    "def get_lower_and_upper_bounds(df, multiplier = 1.5):\n",
    "    # set the quartile\n",
    "    q1 = df.quantile(0.25)\n",
    "    q3 = df.quantile(0.75)\n",
    "    \n",
    "    # calculate the inter-quartile range\n",
    "    iqr = q3 - q1\n",
    "    \n",
    "    # set lower and upperbound\n",
    "    lower = q1 - (iqr * multiplier)\n",
    "    upper = q3 + (iqr * multiplier)\n",
    "    \n",
    "    return lower, upper"
   ]
  },
  {
   "cell_type": "markdown",
   "id": "a1929da1",
   "metadata": {},
   "source": [
    "---"
   ]
  },
  {
   "cell_type": "markdown",
   "id": "41f01754",
   "metadata": {},
   "source": [
    "## 1. Using `lemonade.csv` dataset and focusing on continuous variables:"
   ]
  },
  {
   "cell_type": "markdown",
   "id": "b7e4a7cd",
   "metadata": {},
   "source": [
    "## Use the IQR Range Rule and the upper and lower bounds to identify the lower outliers of each column of lemonade.csv, using the multiplier of 1.5. Do these lower outliers make sense? Which outliers should be kept?"
   ]
  },
  {
   "cell_type": "markdown",
   "id": "17bc9adf",
   "metadata": {},
   "source": [
    "- How many columns? "
   ]
  },
  {
   "cell_type": "code",
   "execution_count": 4,
   "id": "1d1e2f90",
   "metadata": {},
   "outputs": [
    {
     "name": "stdout",
     "output_type": "stream",
     "text": [
      "<class 'pandas.core.frame.DataFrame'>\n",
      "RangeIndex: 365 entries, 0 to 364\n",
      "Data columns (total 7 columns):\n",
      " #   Column       Non-Null Count  Dtype  \n",
      "---  ------       --------------  -----  \n",
      " 0   Date         365 non-null    object \n",
      " 1   Day          365 non-null    object \n",
      " 2   Temperature  365 non-null    float64\n",
      " 3   Rainfall     365 non-null    float64\n",
      " 4   Flyers       365 non-null    int64  \n",
      " 5   Price        365 non-null    float64\n",
      " 6   Sales        365 non-null    int64  \n",
      "dtypes: float64(3), int64(2), object(2)\n",
      "memory usage: 20.1+ KB\n"
     ]
    }
   ],
   "source": [
    "# check columns\n",
    "df.info()"
   ]
  },
  {
   "cell_type": "markdown",
   "id": "143047aa",
   "metadata": {},
   "source": [
    "##### Plot the numerical columns"
   ]
  },
  {
   "cell_type": "code",
   "execution_count": 5,
   "id": "ad15561c",
   "metadata": {},
   "outputs": [
    {
     "data": {
      "image/png": "[encoded data removed]",
      "text/plain": [
       "<Figure size 576x432 with 1 Axes>"
      ]
     },
     "metadata": {
      "needs_background": "light"
     },
     "output_type": "display_data"
    },
    {
     "data": {
      "image/png": "[encoded data removed]",
      "text/plain": [
       "<Figure size 432x288 with 1 Axes>"
      ]
     },
     "metadata": {
      "needs_background": "light"
     },
     "output_type": "display_data"
    },
    {
     "data": {
      "image/png": "[encoded data removed]",
      "text/plain": [
       "<Figure size 432x288 with 1 Axes>"
      ]
     },
     "metadata": {
      "needs_background": "light"
     },
     "output_type": "display_data"
    },
    {
     "data": {
      "image/png": "[encoded data removed]",
      "text/plain": [
       "<Figure size 432x288 with 1 Axes>"
      ]
     },
     "metadata": {
      "needs_background": "light"
     },
     "output_type": "display_data"
    },
    {
     "data": {
      "image/png": "[encoded data removed]",
      "text/plain": [
       "<Figure size 432x288 with 1 Axes>"
      ]
     },
     "metadata": {
      "needs_background": "light"
     },
     "output_type": "display_data"
    }
   ],
   "source": [
    "# plot columns to check for outliers\n",
    "plt.figure(figsize=(8,6))\n",
    "\n",
    "for cnt, col in enumerate(df.columns[2:7]):\n",
    "    sns.boxplot(data=df, x=col)\n",
    "    plt.title(col)\n",
    "    plt.show()"
   ]
  },
  {
   "cell_type": "code",
   "execution_count": 6,
   "id": "2a670178",
   "metadata": {},
   "outputs": [],
   "source": [
    "# create a list of the numerical values\n",
    "columns = df.columns[2:7].tolist()"
   ]
  },
  {
   "cell_type": "markdown",
   "id": "174c799f",
   "metadata": {},
   "source": [
    "##### Get the upper and lower bounds"
   ]
  },
  {
   "cell_type": "code",
   "execution_count": 7,
   "id": "bbe704e1",
   "metadata": {},
   "outputs": [
    {
     "name": "stdout",
     "output_type": "stream",
     "text": [
      "The Temperature columns upper and lower bound values are: (16.700000000000003, 104.7)\n",
      "The Rainfall columns upper and lower bound values are: (0.26, 1.3)\n",
      "The Flyers columns upper and lower bound values are: (4.0, 76.0)\n",
      "The Price columns upper and lower bound values are: (0.5, 0.5)\n",
      "The Sales columns upper and lower bound values are: (5.0, 45.0)\n"
     ]
    }
   ],
   "source": [
    "# get upper and lower bounds for numerical columns\n",
    "for col in columns:\n",
    "    print(f'The {col} columns upper and lower bound values are: {get_lower_and_upper_bounds(df[col])}')"
   ]
  },
  {
   "cell_type": "markdown",
   "id": "204018f1",
   "metadata": {},
   "source": [
    "---"
   ]
  },
  {
   "cell_type": "markdown",
   "id": "7c8abc38",
   "metadata": {},
   "source": [
    "So I've observed the upper and lower bounds for each column. Next, I want to see where in the dataframe are values greater than the lower bound, or upper bound of each column."
   ]
  },
  {
   "cell_type": "markdown",
   "id": "a2ff9105",
   "metadata": {},
   "source": [
    "Doing this will give me the ability to make a decision whether or not these are unacceptable or acceptable anomalies. "
   ]
  },
  {
   "cell_type": "markdown",
   "id": "9d8bb61e",
   "metadata": {},
   "source": [
    "### 1.5 IQR"
   ]
  },
  {
   "cell_type": "markdown",
   "id": "7adf01b6",
   "metadata": {},
   "source": [
    "### Temperature: Lower bound"
   ]
  },
  {
   "cell_type": "code",
   "execution_count": 8,
   "id": "02bb3688",
   "metadata": {},
   "outputs": [],
   "source": [
    "# set bounds\n",
    "temp_lower, temp_upper = get_lower_and_upper_bounds(df.Temperature)"
   ]
  },
  {
   "cell_type": "code",
   "execution_count": 9,
   "id": "41c59249",
   "metadata": {
    "scrolled": true
   },
   "outputs": [
    {
     "data": {
      "text/html": [
       "<div>\n",
       "<style scoped>\n",
       "    .dataframe tbody tr th:only-of-type {\n",
       "        vertical-align: middle;\n",
       "    }\n",
       "\n",
       "    .dataframe tbody tr th {\n",
       "        vertical-align: top;\n",
       "    }\n",
       "\n",
       "    .dataframe thead th {\n",
       "        text-align: right;\n",
       "    }\n",
       "</style>\n",
       "<table border=\"1\" class=\"dataframe\">\n",
       "  <thead>\n",
       "    <tr style=\"text-align: right;\">\n",
       "      <th></th>\n",
       "      <th>Date</th>\n",
       "      <th>Day</th>\n",
       "      <th>Temperature</th>\n",
       "      <th>Rainfall</th>\n",
       "      <th>Flyers</th>\n",
       "      <th>Price</th>\n",
       "      <th>Sales</th>\n",
       "    </tr>\n",
       "  </thead>\n",
       "  <tbody>\n",
       "    <tr>\n",
       "      <th>364</th>\n",
       "      <td>12/31/17</td>\n",
       "      <td>Sunday</td>\n",
       "      <td>15.1</td>\n",
       "      <td>2.5</td>\n",
       "      <td>9</td>\n",
       "      <td>0.5</td>\n",
       "      <td>7</td>\n",
       "    </tr>\n",
       "  </tbody>\n",
       "</table>\n",
       "</div>"
      ],
      "text/plain": [
       "         Date     Day  Temperature  Rainfall  Flyers  Price  Sales\n",
       "364  12/31/17  Sunday         15.1       2.5       9    0.5      7"
      ]
     },
     "execution_count": 9,
     "metadata": {},
     "output_type": "execute_result"
    }
   ],
   "source": [
    "# show dataframes\n",
    "df[df.Temperature < temp_lower]"
   ]
  },
  {
   "cell_type": "markdown",
   "id": "c738b4e5",
   "metadata": {},
   "source": [
    "The lower bound range for Temperature was 16.7. There is an identified outlier of 15.1. 15.1 degrees doesn't seem to be abnormal so there shouldn't be an issue keeping this outlier. "
   ]
  },
  {
   "cell_type": "markdown",
   "id": "5bdbd8ee",
   "metadata": {},
   "source": [
    "---"
   ]
  },
  {
   "cell_type": "markdown",
   "id": "f4e666ae",
   "metadata": {},
   "source": [
    "### Rainfall: Lower bound"
   ]
  },
  {
   "cell_type": "code",
   "execution_count": 10,
   "id": "4a8d0741",
   "metadata": {},
   "outputs": [],
   "source": [
    "# set bounds\n",
    "rain_lower, rain_upper = get_lower_and_upper_bounds(df.Rainfall)"
   ]
  },
  {
   "cell_type": "code",
   "execution_count": 11,
   "id": "80bed469",
   "metadata": {},
   "outputs": [
    {
     "data": {
      "text/html": [
       "<div>\n",
       "<style scoped>\n",
       "    .dataframe tbody tr th:only-of-type {\n",
       "        vertical-align: middle;\n",
       "    }\n",
       "\n",
       "    .dataframe tbody tr th {\n",
       "        vertical-align: top;\n",
       "    }\n",
       "\n",
       "    .dataframe thead th {\n",
       "        text-align: right;\n",
       "    }\n",
       "</style>\n",
       "<table border=\"1\" class=\"dataframe\">\n",
       "  <thead>\n",
       "    <tr style=\"text-align: right;\">\n",
       "      <th></th>\n",
       "      <th>Date</th>\n",
       "      <th>Day</th>\n",
       "      <th>Temperature</th>\n",
       "      <th>Rainfall</th>\n",
       "      <th>Flyers</th>\n",
       "      <th>Price</th>\n",
       "      <th>Sales</th>\n",
       "    </tr>\n",
       "  </thead>\n",
       "  <tbody>\n",
       "  </tbody>\n",
       "</table>\n",
       "</div>"
      ],
      "text/plain": [
       "Empty DataFrame\n",
       "Columns: [Date, Day, Temperature, Rainfall, Flyers, Price, Sales]\n",
       "Index: []"
      ]
     },
     "execution_count": 11,
     "metadata": {},
     "output_type": "execute_result"
    }
   ],
   "source": [
    "df[df.Rainfall < rain_lower]"
   ]
  },
  {
   "cell_type": "markdown",
   "id": "7b7b91ab",
   "metadata": {},
   "source": [
    "No outliers for lower bound rainfall"
   ]
  },
  {
   "cell_type": "markdown",
   "id": "85f28316",
   "metadata": {},
   "source": [
    "---"
   ]
  },
  {
   "cell_type": "markdown",
   "id": "42547007",
   "metadata": {},
   "source": [
    "### Flyers: Lower Bound"
   ]
  },
  {
   "cell_type": "code",
   "execution_count": 12,
   "id": "c441d266",
   "metadata": {},
   "outputs": [],
   "source": [
    "# set bounds\n",
    "fly_lower, fly_upper = get_lower_and_upper_bounds(df.Flyers)"
   ]
  },
  {
   "cell_type": "code",
   "execution_count": 13,
   "id": "1f6b8ebd",
   "metadata": {},
   "outputs": [
    {
     "data": {
      "text/html": [
       "<div>\n",
       "<style scoped>\n",
       "    .dataframe tbody tr th:only-of-type {\n",
       "        vertical-align: middle;\n",
       "    }\n",
       "\n",
       "    .dataframe tbody tr th {\n",
       "        vertical-align: top;\n",
       "    }\n",
       "\n",
       "    .dataframe thead th {\n",
       "        text-align: right;\n",
       "    }\n",
       "</style>\n",
       "<table border=\"1\" class=\"dataframe\">\n",
       "  <thead>\n",
       "    <tr style=\"text-align: right;\">\n",
       "      <th></th>\n",
       "      <th>Date</th>\n",
       "      <th>Day</th>\n",
       "      <th>Temperature</th>\n",
       "      <th>Rainfall</th>\n",
       "      <th>Flyers</th>\n",
       "      <th>Price</th>\n",
       "      <th>Sales</th>\n",
       "    </tr>\n",
       "  </thead>\n",
       "  <tbody>\n",
       "    <tr>\n",
       "      <th>324</th>\n",
       "      <td>11/21/17</td>\n",
       "      <td>Tuesday</td>\n",
       "      <td>47.0</td>\n",
       "      <td>0.95</td>\n",
       "      <td>-38</td>\n",
       "      <td>0.5</td>\n",
       "      <td>20</td>\n",
       "    </tr>\n",
       "  </tbody>\n",
       "</table>\n",
       "</div>"
      ],
      "text/plain": [
       "         Date      Day  Temperature  Rainfall  Flyers  Price  Sales\n",
       "324  11/21/17  Tuesday         47.0      0.95     -38    0.5     20"
      ]
     },
     "execution_count": 13,
     "metadata": {},
     "output_type": "execute_result"
    }
   ],
   "source": [
    "df[df.Flyers < fly_lower]"
   ]
  },
  {
   "cell_type": "markdown",
   "id": "c67352a3",
   "metadata": {},
   "source": [
    "It's strange that there is a negative amount of flyers. To my knowledge, it's impossible to give or have a negative amount of a physical object, so I will remove this data from the dataframe. "
   ]
  },
  {
   "cell_type": "markdown",
   "id": "4554931a",
   "metadata": {},
   "source": [
    "---"
   ]
  },
  {
   "cell_type": "markdown",
   "id": "ccf27e16",
   "metadata": {},
   "source": [
    "### Price: Lower Bound"
   ]
  },
  {
   "cell_type": "code",
   "execution_count": 14,
   "id": "f8b6a0ff",
   "metadata": {},
   "outputs": [],
   "source": [
    "price_l, price_u = get_lower_and_upper_bounds(df.Price)"
   ]
  },
  {
   "cell_type": "code",
   "execution_count": 15,
   "id": "15bbd0df",
   "metadata": {},
   "outputs": [
    {
     "data": {
      "text/html": [
       "<div>\n",
       "<style scoped>\n",
       "    .dataframe tbody tr th:only-of-type {\n",
       "        vertical-align: middle;\n",
       "    }\n",
       "\n",
       "    .dataframe tbody tr th {\n",
       "        vertical-align: top;\n",
       "    }\n",
       "\n",
       "    .dataframe thead th {\n",
       "        text-align: right;\n",
       "    }\n",
       "</style>\n",
       "<table border=\"1\" class=\"dataframe\">\n",
       "  <thead>\n",
       "    <tr style=\"text-align: right;\">\n",
       "      <th></th>\n",
       "      <th>Date</th>\n",
       "      <th>Day</th>\n",
       "      <th>Temperature</th>\n",
       "      <th>Rainfall</th>\n",
       "      <th>Flyers</th>\n",
       "      <th>Price</th>\n",
       "      <th>Sales</th>\n",
       "    </tr>\n",
       "  </thead>\n",
       "  <tbody>\n",
       "  </tbody>\n",
       "</table>\n",
       "</div>"
      ],
      "text/plain": [
       "Empty DataFrame\n",
       "Columns: [Date, Day, Temperature, Rainfall, Flyers, Price, Sales]\n",
       "Index: []"
      ]
     },
     "execution_count": 15,
     "metadata": {},
     "output_type": "execute_result"
    }
   ],
   "source": [
    "df[df.Price < price_l]"
   ]
  },
  {
   "cell_type": "markdown",
   "id": "e30e468d",
   "metadata": {},
   "source": [
    "No outliers for price"
   ]
  },
  {
   "cell_type": "markdown",
   "id": "179f1456",
   "metadata": {},
   "source": [
    "---"
   ]
  },
  {
   "cell_type": "markdown",
   "id": "f9baae67",
   "metadata": {},
   "source": [
    "### Sales: Lower Bound"
   ]
  },
  {
   "cell_type": "code",
   "execution_count": 16,
   "id": "524f208e",
   "metadata": {},
   "outputs": [],
   "source": [
    "sales_l, sales_u = get_lower_and_upper_bounds(df.Sales)"
   ]
  },
  {
   "cell_type": "code",
   "execution_count": 17,
   "id": "16ad6fe3",
   "metadata": {},
   "outputs": [
    {
     "data": {
      "text/html": [
       "<div>\n",
       "<style scoped>\n",
       "    .dataframe tbody tr th:only-of-type {\n",
       "        vertical-align: middle;\n",
       "    }\n",
       "\n",
       "    .dataframe tbody tr th {\n",
       "        vertical-align: top;\n",
       "    }\n",
       "\n",
       "    .dataframe thead th {\n",
       "        text-align: right;\n",
       "    }\n",
       "</style>\n",
       "<table border=\"1\" class=\"dataframe\">\n",
       "  <thead>\n",
       "    <tr style=\"text-align: right;\">\n",
       "      <th></th>\n",
       "      <th>Date</th>\n",
       "      <th>Day</th>\n",
       "      <th>Temperature</th>\n",
       "      <th>Rainfall</th>\n",
       "      <th>Flyers</th>\n",
       "      <th>Price</th>\n",
       "      <th>Sales</th>\n",
       "    </tr>\n",
       "  </thead>\n",
       "  <tbody>\n",
       "  </tbody>\n",
       "</table>\n",
       "</div>"
      ],
      "text/plain": [
       "Empty DataFrame\n",
       "Columns: [Date, Day, Temperature, Rainfall, Flyers, Price, Sales]\n",
       "Index: []"
      ]
     },
     "execution_count": 17,
     "metadata": {},
     "output_type": "execute_result"
    }
   ],
   "source": [
    "df[df.Sales < sales_l]"
   ]
  },
  {
   "cell_type": "markdown",
   "id": "7705cd7a",
   "metadata": {},
   "source": [
    "No outliers for sales"
   ]
  },
  {
   "cell_type": "markdown",
   "id": "ae2b3b87",
   "metadata": {},
   "source": [
    "---"
   ]
  },
  {
   "cell_type": "markdown",
   "id": "5935ebdb",
   "metadata": {},
   "source": [
    "Use the IQR Range Rule and the upper and upper bounds to identify the upper outliers of each column of lemonade.csv, using the multiplier of 1.5. Do these upper outliers make sense? Which outliers should be kept?"
   ]
  },
  {
   "cell_type": "markdown",
   "id": "886deba3",
   "metadata": {},
   "source": [
    "### Temperature : Upper"
   ]
  },
  {
   "cell_type": "code",
   "execution_count": 18,
   "id": "e3bb7ce4",
   "metadata": {
    "scrolled": true
   },
   "outputs": [
    {
     "data": {
      "text/html": [
       "<div>\n",
       "<style scoped>\n",
       "    .dataframe tbody tr th:only-of-type {\n",
       "        vertical-align: middle;\n",
       "    }\n",
       "\n",
       "    .dataframe tbody tr th {\n",
       "        vertical-align: top;\n",
       "    }\n",
       "\n",
       "    .dataframe thead th {\n",
       "        text-align: right;\n",
       "    }\n",
       "</style>\n",
       "<table border=\"1\" class=\"dataframe\">\n",
       "  <thead>\n",
       "    <tr style=\"text-align: right;\">\n",
       "      <th></th>\n",
       "      <th>Date</th>\n",
       "      <th>Day</th>\n",
       "      <th>Temperature</th>\n",
       "      <th>Rainfall</th>\n",
       "      <th>Flyers</th>\n",
       "      <th>Price</th>\n",
       "      <th>Sales</th>\n",
       "    </tr>\n",
       "  </thead>\n",
       "  <tbody>\n",
       "    <tr>\n",
       "      <th>41</th>\n",
       "      <td>2/11/17</td>\n",
       "      <td>Saturday</td>\n",
       "      <td>212.0</td>\n",
       "      <td>0.91</td>\n",
       "      <td>35</td>\n",
       "      <td>0.5</td>\n",
       "      <td>21</td>\n",
       "    </tr>\n",
       "  </tbody>\n",
       "</table>\n",
       "</div>"
      ],
      "text/plain": [
       "       Date       Day  Temperature  Rainfall  Flyers  Price  Sales\n",
       "41  2/11/17  Saturday        212.0      0.91      35    0.5     21"
      ]
     },
     "execution_count": 18,
     "metadata": {},
     "output_type": "execute_result"
    }
   ],
   "source": [
    "df[df.Temperature > temp_upper]"
   ]
  },
  {
   "cell_type": "markdown",
   "id": "b9b54c5a",
   "metadata": {},
   "source": [
    "This temperature is... wow. This will be removed. "
   ]
  },
  {
   "cell_type": "markdown",
   "id": "6f313fbd",
   "metadata": {},
   "source": [
    "### Rainfall : Upper"
   ]
  },
  {
   "cell_type": "code",
   "execution_count": 19,
   "id": "0038efae",
   "metadata": {},
   "outputs": [
    {
     "data": {
      "text/html": [
       "<div>\n",
       "<style scoped>\n",
       "    .dataframe tbody tr th:only-of-type {\n",
       "        vertical-align: middle;\n",
       "    }\n",
       "\n",
       "    .dataframe tbody tr th {\n",
       "        vertical-align: top;\n",
       "    }\n",
       "\n",
       "    .dataframe thead th {\n",
       "        text-align: right;\n",
       "    }\n",
       "</style>\n",
       "<table border=\"1\" class=\"dataframe\">\n",
       "  <thead>\n",
       "    <tr style=\"text-align: right;\">\n",
       "      <th></th>\n",
       "      <th>Date</th>\n",
       "      <th>Day</th>\n",
       "      <th>Temperature</th>\n",
       "      <th>Rainfall</th>\n",
       "      <th>Flyers</th>\n",
       "      <th>Price</th>\n",
       "      <th>Sales</th>\n",
       "    </tr>\n",
       "  </thead>\n",
       "  <tbody>\n",
       "    <tr>\n",
       "      <th>0</th>\n",
       "      <td>1/1/17</td>\n",
       "      <td>Sunday</td>\n",
       "      <td>27.0</td>\n",
       "      <td>2.00</td>\n",
       "      <td>15</td>\n",
       "      <td>0.5</td>\n",
       "      <td>10</td>\n",
       "    </tr>\n",
       "    <tr>\n",
       "      <th>1</th>\n",
       "      <td>1/2/17</td>\n",
       "      <td>Monday</td>\n",
       "      <td>28.9</td>\n",
       "      <td>1.33</td>\n",
       "      <td>15</td>\n",
       "      <td>0.5</td>\n",
       "      <td>13</td>\n",
       "    </tr>\n",
       "    <tr>\n",
       "      <th>2</th>\n",
       "      <td>1/3/17</td>\n",
       "      <td>Tuesday</td>\n",
       "      <td>34.5</td>\n",
       "      <td>1.33</td>\n",
       "      <td>27</td>\n",
       "      <td>0.5</td>\n",
       "      <td>15</td>\n",
       "    </tr>\n",
       "    <tr>\n",
       "      <th>5</th>\n",
       "      <td>1/6/17</td>\n",
       "      <td>Friday</td>\n",
       "      <td>25.3</td>\n",
       "      <td>1.54</td>\n",
       "      <td>23</td>\n",
       "      <td>0.5</td>\n",
       "      <td>11</td>\n",
       "    </tr>\n",
       "    <tr>\n",
       "      <th>6</th>\n",
       "      <td>1/7/17</td>\n",
       "      <td>Saturday</td>\n",
       "      <td>32.9</td>\n",
       "      <td>1.54</td>\n",
       "      <td>19</td>\n",
       "      <td>0.5</td>\n",
       "      <td>13</td>\n",
       "    </tr>\n",
       "    <tr>\n",
       "      <th>10</th>\n",
       "      <td>1/11/17</td>\n",
       "      <td>Wednesday</td>\n",
       "      <td>32.6</td>\n",
       "      <td>1.54</td>\n",
       "      <td>23</td>\n",
       "      <td>0.5</td>\n",
       "      <td>12</td>\n",
       "    </tr>\n",
       "    <tr>\n",
       "      <th>11</th>\n",
       "      <td>1/12/17</td>\n",
       "      <td>Thursday</td>\n",
       "      <td>38.2</td>\n",
       "      <td>1.33</td>\n",
       "      <td>16</td>\n",
       "      <td>0.5</td>\n",
       "      <td>14</td>\n",
       "    </tr>\n",
       "    <tr>\n",
       "      <th>12</th>\n",
       "      <td>1/13/17</td>\n",
       "      <td>Friday</td>\n",
       "      <td>37.5</td>\n",
       "      <td>1.33</td>\n",
       "      <td>19</td>\n",
       "      <td>0.5</td>\n",
       "      <td>15</td>\n",
       "    </tr>\n",
       "    <tr>\n",
       "      <th>15</th>\n",
       "      <td>1/16/17</td>\n",
       "      <td>Monday</td>\n",
       "      <td>30.6</td>\n",
       "      <td>1.67</td>\n",
       "      <td>24</td>\n",
       "      <td>0.5</td>\n",
       "      <td>12</td>\n",
       "    </tr>\n",
       "    <tr>\n",
       "      <th>16</th>\n",
       "      <td>1/17/17</td>\n",
       "      <td>Tuesday</td>\n",
       "      <td>32.2</td>\n",
       "      <td>1.43</td>\n",
       "      <td>26</td>\n",
       "      <td>0.5</td>\n",
       "      <td>14</td>\n",
       "    </tr>\n",
       "    <tr>\n",
       "      <th>19</th>\n",
       "      <td>1/20/17</td>\n",
       "      <td>Friday</td>\n",
       "      <td>31.6</td>\n",
       "      <td>1.43</td>\n",
       "      <td>20</td>\n",
       "      <td>0.5</td>\n",
       "      <td>12</td>\n",
       "    </tr>\n",
       "    <tr>\n",
       "      <th>23</th>\n",
       "      <td>1/24/17</td>\n",
       "      <td>Tuesday</td>\n",
       "      <td>28.6</td>\n",
       "      <td>1.54</td>\n",
       "      <td>20</td>\n",
       "      <td>0.5</td>\n",
       "      <td>12</td>\n",
       "    </tr>\n",
       "    <tr>\n",
       "      <th>27</th>\n",
       "      <td>1/28/17</td>\n",
       "      <td>Saturday</td>\n",
       "      <td>34.9</td>\n",
       "      <td>1.33</td>\n",
       "      <td>15</td>\n",
       "      <td>0.5</td>\n",
       "      <td>13</td>\n",
       "    </tr>\n",
       "    <tr>\n",
       "      <th>28</th>\n",
       "      <td>1/29/17</td>\n",
       "      <td>Sunday</td>\n",
       "      <td>35.2</td>\n",
       "      <td>1.33</td>\n",
       "      <td>27</td>\n",
       "      <td>0.5</td>\n",
       "      <td>14</td>\n",
       "    </tr>\n",
       "    <tr>\n",
       "      <th>337</th>\n",
       "      <td>12/4/17</td>\n",
       "      <td>Monday</td>\n",
       "      <td>34.9</td>\n",
       "      <td>1.54</td>\n",
       "      <td>16</td>\n",
       "      <td>0.5</td>\n",
       "      <td>13</td>\n",
       "    </tr>\n",
       "    <tr>\n",
       "      <th>338</th>\n",
       "      <td>12/5/17</td>\n",
       "      <td>Tuesday</td>\n",
       "      <td>22.0</td>\n",
       "      <td>1.82</td>\n",
       "      <td>11</td>\n",
       "      <td>0.5</td>\n",
       "      <td>10</td>\n",
       "    </tr>\n",
       "    <tr>\n",
       "      <th>342</th>\n",
       "      <td>12/9/17</td>\n",
       "      <td>Saturday</td>\n",
       "      <td>31.2</td>\n",
       "      <td>1.43</td>\n",
       "      <td>19</td>\n",
       "      <td>0.5</td>\n",
       "      <td>14</td>\n",
       "    </tr>\n",
       "    <tr>\n",
       "      <th>343</th>\n",
       "      <td>12/10/17</td>\n",
       "      <td>Sunday</td>\n",
       "      <td>31.3</td>\n",
       "      <td>1.82</td>\n",
       "      <td>15</td>\n",
       "      <td>0.5</td>\n",
       "      <td>11</td>\n",
       "    </tr>\n",
       "    <tr>\n",
       "      <th>345</th>\n",
       "      <td>12/12/17</td>\n",
       "      <td>Tuesday</td>\n",
       "      <td>33.5</td>\n",
       "      <td>1.33</td>\n",
       "      <td>22</td>\n",
       "      <td>0.5</td>\n",
       "      <td>15</td>\n",
       "    </tr>\n",
       "    <tr>\n",
       "      <th>346</th>\n",
       "      <td>12/13/17</td>\n",
       "      <td>Wednesday</td>\n",
       "      <td>32.2</td>\n",
       "      <td>1.43</td>\n",
       "      <td>26</td>\n",
       "      <td>0.5</td>\n",
       "      <td>14</td>\n",
       "    </tr>\n",
       "    <tr>\n",
       "      <th>347</th>\n",
       "      <td>12/14/17</td>\n",
       "      <td>Thursday</td>\n",
       "      <td>31.9</td>\n",
       "      <td>1.54</td>\n",
       "      <td>24</td>\n",
       "      <td>0.5</td>\n",
       "      <td>13</td>\n",
       "    </tr>\n",
       "    <tr>\n",
       "      <th>350</th>\n",
       "      <td>12/17/17</td>\n",
       "      <td>Sunday</td>\n",
       "      <td>32.2</td>\n",
       "      <td>1.33</td>\n",
       "      <td>16</td>\n",
       "      <td>0.5</td>\n",
       "      <td>14</td>\n",
       "    </tr>\n",
       "    <tr>\n",
       "      <th>351</th>\n",
       "      <td>12/18/17</td>\n",
       "      <td>Monday</td>\n",
       "      <td>30.9</td>\n",
       "      <td>1.43</td>\n",
       "      <td>27</td>\n",
       "      <td>0.5</td>\n",
       "      <td>13</td>\n",
       "    </tr>\n",
       "    <tr>\n",
       "      <th>354</th>\n",
       "      <td>12/21/17</td>\n",
       "      <td>Thursday</td>\n",
       "      <td>40.5</td>\n",
       "      <td>1.33</td>\n",
       "      <td>23</td>\n",
       "      <td>0.5</td>\n",
       "      <td>15</td>\n",
       "    </tr>\n",
       "    <tr>\n",
       "      <th>355</th>\n",
       "      <td>12/22/17</td>\n",
       "      <td>Friday</td>\n",
       "      <td>30.9</td>\n",
       "      <td>1.54</td>\n",
       "      <td>17</td>\n",
       "      <td>0.5</td>\n",
       "      <td>13</td>\n",
       "    </tr>\n",
       "    <tr>\n",
       "      <th>359</th>\n",
       "      <td>12/26/17</td>\n",
       "      <td>Tuesday</td>\n",
       "      <td>28.9</td>\n",
       "      <td>1.43</td>\n",
       "      <td>23</td>\n",
       "      <td>0.5</td>\n",
       "      <td>13</td>\n",
       "    </tr>\n",
       "    <tr>\n",
       "      <th>363</th>\n",
       "      <td>12/30/17</td>\n",
       "      <td>Saturday</td>\n",
       "      <td>30.9</td>\n",
       "      <td>1.43</td>\n",
       "      <td>22</td>\n",
       "      <td>0.5</td>\n",
       "      <td>13</td>\n",
       "    </tr>\n",
       "    <tr>\n",
       "      <th>364</th>\n",
       "      <td>12/31/17</td>\n",
       "      <td>Sunday</td>\n",
       "      <td>15.1</td>\n",
       "      <td>2.50</td>\n",
       "      <td>9</td>\n",
       "      <td>0.5</td>\n",
       "      <td>7</td>\n",
       "    </tr>\n",
       "  </tbody>\n",
       "</table>\n",
       "</div>"
      ],
      "text/plain": [
       "         Date        Day  Temperature  Rainfall  Flyers  Price  Sales\n",
       "0      1/1/17     Sunday         27.0      2.00      15    0.5     10\n",
       "1      1/2/17     Monday         28.9      1.33      15    0.5     13\n",
       "2      1/3/17    Tuesday         34.5      1.33      27    0.5     15\n",
       "5      1/6/17     Friday         25.3      1.54      23    0.5     11\n",
       "6      1/7/17   Saturday         32.9      1.54      19    0.5     13\n",
       "10    1/11/17  Wednesday         32.6      1.54      23    0.5     12\n",
       "11    1/12/17   Thursday         38.2      1.33      16    0.5     14\n",
       "12    1/13/17     Friday         37.5      1.33      19    0.5     15\n",
       "15    1/16/17     Monday         30.6      1.67      24    0.5     12\n",
       "16    1/17/17    Tuesday         32.2      1.43      26    0.5     14\n",
       "19    1/20/17     Friday         31.6      1.43      20    0.5     12\n",
       "23    1/24/17    Tuesday         28.6      1.54      20    0.5     12\n",
       "27    1/28/17   Saturday         34.9      1.33      15    0.5     13\n",
       "28    1/29/17     Sunday         35.2      1.33      27    0.5     14\n",
       "337   12/4/17     Monday         34.9      1.54      16    0.5     13\n",
       "338   12/5/17    Tuesday         22.0      1.82      11    0.5     10\n",
       "342   12/9/17   Saturday         31.2      1.43      19    0.5     14\n",
       "343  12/10/17     Sunday         31.3      1.82      15    0.5     11\n",
       "345  12/12/17    Tuesday         33.5      1.33      22    0.5     15\n",
       "346  12/13/17  Wednesday         32.2      1.43      26    0.5     14\n",
       "347  12/14/17   Thursday         31.9      1.54      24    0.5     13\n",
       "350  12/17/17     Sunday         32.2      1.33      16    0.5     14\n",
       "351  12/18/17     Monday         30.9      1.43      27    0.5     13\n",
       "354  12/21/17   Thursday         40.5      1.33      23    0.5     15\n",
       "355  12/22/17     Friday         30.9      1.54      17    0.5     13\n",
       "359  12/26/17    Tuesday         28.9      1.43      23    0.5     13\n",
       "363  12/30/17   Saturday         30.9      1.43      22    0.5     13\n",
       "364  12/31/17     Sunday         15.1      2.50       9    0.5      7"
      ]
     },
     "execution_count": 19,
     "metadata": {},
     "output_type": "execute_result"
    }
   ],
   "source": [
    "df[df.Rainfall > rain_upper]"
   ]
  },
  {
   "cell_type": "markdown",
   "id": "2a0a9b2c",
   "metadata": {},
   "source": [
    "I don't think increased numbers of rainfall are impossible, so I would like to think that these are correct values. These I will keep. "
   ]
  },
  {
   "cell_type": "markdown",
   "id": "e05da761",
   "metadata": {},
   "source": [
    "### Flyers : Upper"
   ]
  },
  {
   "cell_type": "code",
   "execution_count": 20,
   "id": "56b9b0e5",
   "metadata": {},
   "outputs": [
    {
     "data": {
      "text/html": [
       "<div>\n",
       "<style scoped>\n",
       "    .dataframe tbody tr th:only-of-type {\n",
       "        vertical-align: middle;\n",
       "    }\n",
       "\n",
       "    .dataframe tbody tr th {\n",
       "        vertical-align: top;\n",
       "    }\n",
       "\n",
       "    .dataframe thead th {\n",
       "        text-align: right;\n",
       "    }\n",
       "</style>\n",
       "<table border=\"1\" class=\"dataframe\">\n",
       "  <thead>\n",
       "    <tr style=\"text-align: right;\">\n",
       "      <th></th>\n",
       "      <th>Date</th>\n",
       "      <th>Day</th>\n",
       "      <th>Temperature</th>\n",
       "      <th>Rainfall</th>\n",
       "      <th>Flyers</th>\n",
       "      <th>Price</th>\n",
       "      <th>Sales</th>\n",
       "    </tr>\n",
       "  </thead>\n",
       "  <tbody>\n",
       "    <tr>\n",
       "      <th>166</th>\n",
       "      <td>6/16/17</td>\n",
       "      <td>Friday</td>\n",
       "      <td>99.3</td>\n",
       "      <td>0.47</td>\n",
       "      <td>77</td>\n",
       "      <td>0.5</td>\n",
       "      <td>41</td>\n",
       "    </tr>\n",
       "    <tr>\n",
       "      <th>194</th>\n",
       "      <td>7/14/17</td>\n",
       "      <td>Friday</td>\n",
       "      <td>92.0</td>\n",
       "      <td>0.50</td>\n",
       "      <td>80</td>\n",
       "      <td>0.5</td>\n",
       "      <td>40</td>\n",
       "    </tr>\n",
       "  </tbody>\n",
       "</table>\n",
       "</div>"
      ],
      "text/plain": [
       "        Date     Day  Temperature  Rainfall  Flyers  Price  Sales\n",
       "166  6/16/17  Friday         99.3      0.47      77    0.5     41\n",
       "194  7/14/17  Friday         92.0      0.50      80    0.5     40"
      ]
     },
     "execution_count": 20,
     "metadata": {},
     "output_type": "execute_result"
    }
   ],
   "source": [
    "df[df.Flyers > fly_upper]"
   ]
  },
  {
   "cell_type": "markdown",
   "id": "ba641753",
   "metadata": {},
   "source": [
    "I will also keep these. You can give out 77 or 80 flyers in a day. "
   ]
  },
  {
   "cell_type": "markdown",
   "id": "708f6537",
   "metadata": {},
   "source": [
    "### Price : Upper"
   ]
  },
  {
   "cell_type": "code",
   "execution_count": 21,
   "id": "186df023",
   "metadata": {},
   "outputs": [
    {
     "data": {
      "text/html": [
       "<div>\n",
       "<style scoped>\n",
       "    .dataframe tbody tr th:only-of-type {\n",
       "        vertical-align: middle;\n",
       "    }\n",
       "\n",
       "    .dataframe tbody tr th {\n",
       "        vertical-align: top;\n",
       "    }\n",
       "\n",
       "    .dataframe thead th {\n",
       "        text-align: right;\n",
       "    }\n",
       "</style>\n",
       "<table border=\"1\" class=\"dataframe\">\n",
       "  <thead>\n",
       "    <tr style=\"text-align: right;\">\n",
       "      <th></th>\n",
       "      <th>Date</th>\n",
       "      <th>Day</th>\n",
       "      <th>Temperature</th>\n",
       "      <th>Rainfall</th>\n",
       "      <th>Flyers</th>\n",
       "      <th>Price</th>\n",
       "      <th>Sales</th>\n",
       "    </tr>\n",
       "  </thead>\n",
       "  <tbody>\n",
       "  </tbody>\n",
       "</table>\n",
       "</div>"
      ],
      "text/plain": [
       "Empty DataFrame\n",
       "Columns: [Date, Day, Temperature, Rainfall, Flyers, Price, Sales]\n",
       "Index: []"
      ]
     },
     "execution_count": 21,
     "metadata": {},
     "output_type": "execute_result"
    }
   ],
   "source": [
    "df[df.Price > price_u]"
   ]
  },
  {
   "cell_type": "markdown",
   "id": "507682f9",
   "metadata": {},
   "source": [
    "No upper outliers for price."
   ]
  },
  {
   "cell_type": "markdown",
   "id": "035cf46c",
   "metadata": {},
   "source": [
    "### Sales : Upper"
   ]
  },
  {
   "cell_type": "code",
   "execution_count": 22,
   "id": "6d69cea3",
   "metadata": {},
   "outputs": [
    {
     "data": {
      "text/html": [
       "<div>\n",
       "<style scoped>\n",
       "    .dataframe tbody tr th:only-of-type {\n",
       "        vertical-align: middle;\n",
       "    }\n",
       "\n",
       "    .dataframe tbody tr th {\n",
       "        vertical-align: top;\n",
       "    }\n",
       "\n",
       "    .dataframe thead th {\n",
       "        text-align: right;\n",
       "    }\n",
       "</style>\n",
       "<table border=\"1\" class=\"dataframe\">\n",
       "  <thead>\n",
       "    <tr style=\"text-align: right;\">\n",
       "      <th></th>\n",
       "      <th>Date</th>\n",
       "      <th>Day</th>\n",
       "      <th>Temperature</th>\n",
       "      <th>Rainfall</th>\n",
       "      <th>Flyers</th>\n",
       "      <th>Price</th>\n",
       "      <th>Sales</th>\n",
       "    </tr>\n",
       "  </thead>\n",
       "  <tbody>\n",
       "    <tr>\n",
       "      <th>181</th>\n",
       "      <td>7/1/17</td>\n",
       "      <td>Saturday</td>\n",
       "      <td>102.9</td>\n",
       "      <td>0.47</td>\n",
       "      <td>59</td>\n",
       "      <td>0.5</td>\n",
       "      <td>143</td>\n",
       "    </tr>\n",
       "    <tr>\n",
       "      <th>182</th>\n",
       "      <td>7/2/17</td>\n",
       "      <td>Sunday</td>\n",
       "      <td>93.4</td>\n",
       "      <td>0.51</td>\n",
       "      <td>68</td>\n",
       "      <td>0.5</td>\n",
       "      <td>158</td>\n",
       "    </tr>\n",
       "    <tr>\n",
       "      <th>183</th>\n",
       "      <td>7/3/17</td>\n",
       "      <td>Monday</td>\n",
       "      <td>81.5</td>\n",
       "      <td>0.54</td>\n",
       "      <td>68</td>\n",
       "      <td>0.5</td>\n",
       "      <td>235</td>\n",
       "    </tr>\n",
       "    <tr>\n",
       "      <th>184</th>\n",
       "      <td>7/4/17</td>\n",
       "      <td>Tuesday</td>\n",
       "      <td>84.2</td>\n",
       "      <td>0.59</td>\n",
       "      <td>49</td>\n",
       "      <td>0.5</td>\n",
       "      <td>534</td>\n",
       "    </tr>\n",
       "  </tbody>\n",
       "</table>\n",
       "</div>"
      ],
      "text/plain": [
       "       Date       Day  Temperature  Rainfall  Flyers  Price  Sales\n",
       "181  7/1/17  Saturday        102.9      0.47      59    0.5    143\n",
       "182  7/2/17    Sunday         93.4      0.51      68    0.5    158\n",
       "183  7/3/17    Monday         81.5      0.54      68    0.5    235\n",
       "184  7/4/17   Tuesday         84.2      0.59      49    0.5    534"
      ]
     },
     "execution_count": 22,
     "metadata": {},
     "output_type": "execute_result"
    }
   ],
   "source": [
    "df[df.Sales > sales_u]"
   ]
  },
  {
   "cell_type": "markdown",
   "id": "8a18e484",
   "metadata": {},
   "source": [
    "All of these outliers are on 4th of july weekend that had hot temperature and low rainfall. These might be correct values due to events. "
   ]
  },
  {
   "cell_type": "markdown",
   "id": "acf57a01",
   "metadata": {},
   "source": [
    "---"
   ]
  },
  {
   "cell_type": "markdown",
   "id": "1ecc5b35",
   "metadata": {},
   "source": [
    "## IQR 3"
   ]
  },
  {
   "cell_type": "markdown",
   "id": "c2ded352",
   "metadata": {},
   "source": [
    "Using the multiplier of 3, IQR Range Rule, and the lower bounds, identify the outliers below the lower bound in each colum of lemonade.csv. Do these lower outliers make sense? Which outliers should be kept?"
   ]
  },
  {
   "cell_type": "code",
   "execution_count": 23,
   "id": "129bd3ae",
   "metadata": {},
   "outputs": [
    {
     "name": "stdout",
     "output_type": "stream",
     "text": [
      "The Temperature columns upper and lower bound values are: (-16.299999999999997, 137.7)\n",
      "The Rainfall columns upper and lower bound values are: (-0.13, 1.69)\n",
      "The Flyers columns upper and lower bound values are: (-23.0, 103.0)\n",
      "The Price columns upper and lower bound values are: (0.5, 0.5)\n",
      "The Sales columns upper and lower bound values are: (-10.0, 60.0)\n"
     ]
    }
   ],
   "source": [
    "for col in columns:\n",
    "    print(f'The {col} columns upper and lower bound values are: {get_lower_and_upper_bounds(df[col], multiplier=3)}')"
   ]
  },
  {
   "cell_type": "code",
   "execution_count": 24,
   "id": "3a3b16af",
   "metadata": {},
   "outputs": [],
   "source": [
    "temp_l, temp_u = get_lower_and_upper_bounds(df.Temperature, 3)"
   ]
  },
  {
   "cell_type": "code",
   "execution_count": 26,
   "id": "5ab3129b",
   "metadata": {},
   "outputs": [
    {
     "data": {
      "text/html": [
       "<div>\n",
       "<style scoped>\n",
       "    .dataframe tbody tr th:only-of-type {\n",
       "        vertical-align: middle;\n",
       "    }\n",
       "\n",
       "    .dataframe tbody tr th {\n",
       "        vertical-align: top;\n",
       "    }\n",
       "\n",
       "    .dataframe thead th {\n",
       "        text-align: right;\n",
       "    }\n",
       "</style>\n",
       "<table border=\"1\" class=\"dataframe\">\n",
       "  <thead>\n",
       "    <tr style=\"text-align: right;\">\n",
       "      <th></th>\n",
       "      <th>Date</th>\n",
       "      <th>Day</th>\n",
       "      <th>Temperature</th>\n",
       "      <th>Rainfall</th>\n",
       "      <th>Flyers</th>\n",
       "      <th>Price</th>\n",
       "      <th>Sales</th>\n",
       "    </tr>\n",
       "  </thead>\n",
       "  <tbody>\n",
       "  </tbody>\n",
       "</table>\n",
       "</div>"
      ],
      "text/plain": [
       "Empty DataFrame\n",
       "Columns: [Date, Day, Temperature, Rainfall, Flyers, Price, Sales]\n",
       "Index: []"
      ]
     },
     "execution_count": 26,
     "metadata": {},
     "output_type": "execute_result"
    }
   ],
   "source": [
    "df[df.Temperature < temp_l]"
   ]
  },
  {
   "cell_type": "markdown",
   "id": "73fe8d32",
   "metadata": {},
   "source": [
    "No Outliers for Temperature Lower"
   ]
  },
  {
   "cell_type": "markdown",
   "id": "910c5b8c",
   "metadata": {},
   "source": [
    "---"
   ]
  },
  {
   "cell_type": "code",
   "execution_count": 27,
   "id": "9f6c5e26",
   "metadata": {},
   "outputs": [
    {
     "data": {
      "text/html": [
       "<div>\n",
       "<style scoped>\n",
       "    .dataframe tbody tr th:only-of-type {\n",
       "        vertical-align: middle;\n",
       "    }\n",
       "\n",
       "    .dataframe tbody tr th {\n",
       "        vertical-align: top;\n",
       "    }\n",
       "\n",
       "    .dataframe thead th {\n",
       "        text-align: right;\n",
       "    }\n",
       "</style>\n",
       "<table border=\"1\" class=\"dataframe\">\n",
       "  <thead>\n",
       "    <tr style=\"text-align: right;\">\n",
       "      <th></th>\n",
       "      <th>Date</th>\n",
       "      <th>Day</th>\n",
       "      <th>Temperature</th>\n",
       "      <th>Rainfall</th>\n",
       "      <th>Flyers</th>\n",
       "      <th>Price</th>\n",
       "      <th>Sales</th>\n",
       "    </tr>\n",
       "  </thead>\n",
       "  <tbody>\n",
       "  </tbody>\n",
       "</table>\n",
       "</div>"
      ],
      "text/plain": [
       "Empty DataFrame\n",
       "Columns: [Date, Day, Temperature, Rainfall, Flyers, Price, Sales]\n",
       "Index: []"
      ]
     },
     "execution_count": 27,
     "metadata": {},
     "output_type": "execute_result"
    }
   ],
   "source": [
    "rain_l, rain_u = get_lower_and_upper_bounds(df.Rainfall, 3)\n",
    "df[df.Rainfall < rain_l]"
   ]
  },
  {
   "cell_type": "markdown",
   "id": "392b0976",
   "metadata": {},
   "source": [
    "No outliers"
   ]
  },
  {
   "cell_type": "markdown",
   "id": "a93a7fb9",
   "metadata": {},
   "source": [
    "---"
   ]
  },
  {
   "cell_type": "code",
   "execution_count": 28,
   "id": "a283f9e7",
   "metadata": {},
   "outputs": [],
   "source": [
    "flyers_l, flyers_u = get_lower_and_upper_bounds(df.Flyers, 3)"
   ]
  },
  {
   "cell_type": "code",
   "execution_count": 29,
   "id": "6b6549e5",
   "metadata": {},
   "outputs": [
    {
     "data": {
      "text/html": [
       "<div>\n",
       "<style scoped>\n",
       "    .dataframe tbody tr th:only-of-type {\n",
       "        vertical-align: middle;\n",
       "    }\n",
       "\n",
       "    .dataframe tbody tr th {\n",
       "        vertical-align: top;\n",
       "    }\n",
       "\n",
       "    .dataframe thead th {\n",
       "        text-align: right;\n",
       "    }\n",
       "</style>\n",
       "<table border=\"1\" class=\"dataframe\">\n",
       "  <thead>\n",
       "    <tr style=\"text-align: right;\">\n",
       "      <th></th>\n",
       "      <th>Date</th>\n",
       "      <th>Day</th>\n",
       "      <th>Temperature</th>\n",
       "      <th>Rainfall</th>\n",
       "      <th>Flyers</th>\n",
       "      <th>Price</th>\n",
       "      <th>Sales</th>\n",
       "    </tr>\n",
       "  </thead>\n",
       "  <tbody>\n",
       "    <tr>\n",
       "      <th>324</th>\n",
       "      <td>11/21/17</td>\n",
       "      <td>Tuesday</td>\n",
       "      <td>47.0</td>\n",
       "      <td>0.95</td>\n",
       "      <td>-38</td>\n",
       "      <td>0.5</td>\n",
       "      <td>20</td>\n",
       "    </tr>\n",
       "  </tbody>\n",
       "</table>\n",
       "</div>"
      ],
      "text/plain": [
       "         Date      Day  Temperature  Rainfall  Flyers  Price  Sales\n",
       "324  11/21/17  Tuesday         47.0      0.95     -38    0.5     20"
      ]
     },
     "execution_count": 29,
     "metadata": {},
     "output_type": "execute_result"
    }
   ],
   "source": [
    "df[df.Flyers < flyers_l]"
   ]
  },
  {
   "cell_type": "markdown",
   "id": "37eb4c62",
   "metadata": {},
   "source": [
    "Negative numbers which as mentioned before are not possible or do not seem to be possible. Will not keep"
   ]
  },
  {
   "cell_type": "code",
   "execution_count": 30,
   "id": "8b5ce59e",
   "metadata": {},
   "outputs": [
    {
     "data": {
      "text/html": [
       "<div>\n",
       "<style scoped>\n",
       "    .dataframe tbody tr th:only-of-type {\n",
       "        vertical-align: middle;\n",
       "    }\n",
       "\n",
       "    .dataframe tbody tr th {\n",
       "        vertical-align: top;\n",
       "    }\n",
       "\n",
       "    .dataframe thead th {\n",
       "        text-align: right;\n",
       "    }\n",
       "</style>\n",
       "<table border=\"1\" class=\"dataframe\">\n",
       "  <thead>\n",
       "    <tr style=\"text-align: right;\">\n",
       "      <th></th>\n",
       "      <th>Date</th>\n",
       "      <th>Day</th>\n",
       "      <th>Temperature</th>\n",
       "      <th>Rainfall</th>\n",
       "      <th>Flyers</th>\n",
       "      <th>Price</th>\n",
       "      <th>Sales</th>\n",
       "    </tr>\n",
       "  </thead>\n",
       "  <tbody>\n",
       "  </tbody>\n",
       "</table>\n",
       "</div>"
      ],
      "text/plain": [
       "Empty DataFrame\n",
       "Columns: [Date, Day, Temperature, Rainfall, Flyers, Price, Sales]\n",
       "Index: []"
      ]
     },
     "execution_count": 30,
     "metadata": {},
     "output_type": "execute_result"
    }
   ],
   "source": [
    "price_l, price_u = get_lower_and_upper_bounds(df.Price, 3)\n",
    "df[df.Price < price_l]"
   ]
  },
  {
   "cell_type": "markdown",
   "id": "6fbcfd61",
   "metadata": {},
   "source": [
    "No outliers"
   ]
  },
  {
   "cell_type": "markdown",
   "id": "8412c17f",
   "metadata": {},
   "source": [
    "---"
   ]
  },
  {
   "cell_type": "code",
   "execution_count": 31,
   "id": "8f49da7c",
   "metadata": {},
   "outputs": [],
   "source": [
    "sales_l, sales_u = get_lower_and_upper_bounds(df.Sales, 3)"
   ]
  },
  {
   "cell_type": "code",
   "execution_count": 32,
   "id": "62ad7a05",
   "metadata": {},
   "outputs": [
    {
     "data": {
      "text/html": [
       "<div>\n",
       "<style scoped>\n",
       "    .dataframe tbody tr th:only-of-type {\n",
       "        vertical-align: middle;\n",
       "    }\n",
       "\n",
       "    .dataframe tbody tr th {\n",
       "        vertical-align: top;\n",
       "    }\n",
       "\n",
       "    .dataframe thead th {\n",
       "        text-align: right;\n",
       "    }\n",
       "</style>\n",
       "<table border=\"1\" class=\"dataframe\">\n",
       "  <thead>\n",
       "    <tr style=\"text-align: right;\">\n",
       "      <th></th>\n",
       "      <th>Date</th>\n",
       "      <th>Day</th>\n",
       "      <th>Temperature</th>\n",
       "      <th>Rainfall</th>\n",
       "      <th>Flyers</th>\n",
       "      <th>Price</th>\n",
       "      <th>Sales</th>\n",
       "    </tr>\n",
       "  </thead>\n",
       "  <tbody>\n",
       "  </tbody>\n",
       "</table>\n",
       "</div>"
      ],
      "text/plain": [
       "Empty DataFrame\n",
       "Columns: [Date, Day, Temperature, Rainfall, Flyers, Price, Sales]\n",
       "Index: []"
      ]
     },
     "execution_count": 32,
     "metadata": {},
     "output_type": "execute_result"
    }
   ],
   "source": [
    "df[df.Sales < sales_l]"
   ]
  },
  {
   "cell_type": "markdown",
   "id": "e9c353cc",
   "metadata": {},
   "source": [
    "No outliers"
   ]
  },
  {
   "cell_type": "markdown",
   "id": "74774684",
   "metadata": {},
   "source": [
    "---"
   ]
  },
  {
   "cell_type": "markdown",
   "id": "9570c583",
   "metadata": {},
   "source": [
    "Using the multiplier of 3, IQR Range Rule, and the upper bounds, identify the outliers above the upper_bound in each colum of lemonade.csv. Do these upper outliers make sense? Which outliers should be kept?"
   ]
  },
  {
   "cell_type": "code",
   "execution_count": 34,
   "id": "a66158c1",
   "metadata": {},
   "outputs": [
    {
     "data": {
      "text/html": [
       "<div>\n",
       "<style scoped>\n",
       "    .dataframe tbody tr th:only-of-type {\n",
       "        vertical-align: middle;\n",
       "    }\n",
       "\n",
       "    .dataframe tbody tr th {\n",
       "        vertical-align: top;\n",
       "    }\n",
       "\n",
       "    .dataframe thead th {\n",
       "        text-align: right;\n",
       "    }\n",
       "</style>\n",
       "<table border=\"1\" class=\"dataframe\">\n",
       "  <thead>\n",
       "    <tr style=\"text-align: right;\">\n",
       "      <th></th>\n",
       "      <th>Date</th>\n",
       "      <th>Day</th>\n",
       "      <th>Temperature</th>\n",
       "      <th>Rainfall</th>\n",
       "      <th>Flyers</th>\n",
       "      <th>Price</th>\n",
       "      <th>Sales</th>\n",
       "    </tr>\n",
       "  </thead>\n",
       "  <tbody>\n",
       "    <tr>\n",
       "      <th>41</th>\n",
       "      <td>2/11/17</td>\n",
       "      <td>Saturday</td>\n",
       "      <td>212.0</td>\n",
       "      <td>0.91</td>\n",
       "      <td>35</td>\n",
       "      <td>0.5</td>\n",
       "      <td>21</td>\n",
       "    </tr>\n",
       "  </tbody>\n",
       "</table>\n",
       "</div>"
      ],
      "text/plain": [
       "       Date       Day  Temperature  Rainfall  Flyers  Price  Sales\n",
       "41  2/11/17  Saturday        212.0      0.91      35    0.5     21"
      ]
     },
     "execution_count": 34,
     "metadata": {},
     "output_type": "execute_result"
    }
   ],
   "source": [
    "df[df.Temperature > temp_u]"
   ]
  },
  {
   "cell_type": "markdown",
   "id": "69f8b295",
   "metadata": {},
   "source": [
    "People would die. Removed"
   ]
  },
  {
   "cell_type": "code",
   "execution_count": 35,
   "id": "c932b7b1",
   "metadata": {},
   "outputs": [
    {
     "data": {
      "text/html": [
       "<div>\n",
       "<style scoped>\n",
       "    .dataframe tbody tr th:only-of-type {\n",
       "        vertical-align: middle;\n",
       "    }\n",
       "\n",
       "    .dataframe tbody tr th {\n",
       "        vertical-align: top;\n",
       "    }\n",
       "\n",
       "    .dataframe thead th {\n",
       "        text-align: right;\n",
       "    }\n",
       "</style>\n",
       "<table border=\"1\" class=\"dataframe\">\n",
       "  <thead>\n",
       "    <tr style=\"text-align: right;\">\n",
       "      <th></th>\n",
       "      <th>Date</th>\n",
       "      <th>Day</th>\n",
       "      <th>Temperature</th>\n",
       "      <th>Rainfall</th>\n",
       "      <th>Flyers</th>\n",
       "      <th>Price</th>\n",
       "      <th>Sales</th>\n",
       "    </tr>\n",
       "  </thead>\n",
       "  <tbody>\n",
       "    <tr>\n",
       "      <th>0</th>\n",
       "      <td>1/1/17</td>\n",
       "      <td>Sunday</td>\n",
       "      <td>27.0</td>\n",
       "      <td>2.00</td>\n",
       "      <td>15</td>\n",
       "      <td>0.5</td>\n",
       "      <td>10</td>\n",
       "    </tr>\n",
       "    <tr>\n",
       "      <th>338</th>\n",
       "      <td>12/5/17</td>\n",
       "      <td>Tuesday</td>\n",
       "      <td>22.0</td>\n",
       "      <td>1.82</td>\n",
       "      <td>11</td>\n",
       "      <td>0.5</td>\n",
       "      <td>10</td>\n",
       "    </tr>\n",
       "    <tr>\n",
       "      <th>343</th>\n",
       "      <td>12/10/17</td>\n",
       "      <td>Sunday</td>\n",
       "      <td>31.3</td>\n",
       "      <td>1.82</td>\n",
       "      <td>15</td>\n",
       "      <td>0.5</td>\n",
       "      <td>11</td>\n",
       "    </tr>\n",
       "    <tr>\n",
       "      <th>364</th>\n",
       "      <td>12/31/17</td>\n",
       "      <td>Sunday</td>\n",
       "      <td>15.1</td>\n",
       "      <td>2.50</td>\n",
       "      <td>9</td>\n",
       "      <td>0.5</td>\n",
       "      <td>7</td>\n",
       "    </tr>\n",
       "  </tbody>\n",
       "</table>\n",
       "</div>"
      ],
      "text/plain": [
       "         Date      Day  Temperature  Rainfall  Flyers  Price  Sales\n",
       "0      1/1/17   Sunday         27.0      2.00      15    0.5     10\n",
       "338   12/5/17  Tuesday         22.0      1.82      11    0.5     10\n",
       "343  12/10/17   Sunday         31.3      1.82      15    0.5     11\n",
       "364  12/31/17   Sunday         15.1      2.50       9    0.5      7"
      ]
     },
     "execution_count": 35,
     "metadata": {},
     "output_type": "execute_result"
    }
   ],
   "source": [
    "df[df.Rainfall > rain_u]"
   ]
  },
  {
   "cell_type": "markdown",
   "id": "7194147c",
   "metadata": {},
   "source": [
    "Doesnt seem to be out of the ordinary of potential rainfaill"
   ]
  },
  {
   "cell_type": "code",
   "execution_count": 38,
   "id": "46ca3ff1",
   "metadata": {},
   "outputs": [
    {
     "data": {
      "text/html": [
       "<div>\n",
       "<style scoped>\n",
       "    .dataframe tbody tr th:only-of-type {\n",
       "        vertical-align: middle;\n",
       "    }\n",
       "\n",
       "    .dataframe tbody tr th {\n",
       "        vertical-align: top;\n",
       "    }\n",
       "\n",
       "    .dataframe thead th {\n",
       "        text-align: right;\n",
       "    }\n",
       "</style>\n",
       "<table border=\"1\" class=\"dataframe\">\n",
       "  <thead>\n",
       "    <tr style=\"text-align: right;\">\n",
       "      <th></th>\n",
       "      <th>Date</th>\n",
       "      <th>Day</th>\n",
       "      <th>Temperature</th>\n",
       "      <th>Rainfall</th>\n",
       "      <th>Flyers</th>\n",
       "      <th>Price</th>\n",
       "      <th>Sales</th>\n",
       "    </tr>\n",
       "  </thead>\n",
       "  <tbody>\n",
       "  </tbody>\n",
       "</table>\n",
       "</div>"
      ],
      "text/plain": [
       "Empty DataFrame\n",
       "Columns: [Date, Day, Temperature, Rainfall, Flyers, Price, Sales]\n",
       "Index: []"
      ]
     },
     "execution_count": 38,
     "metadata": {},
     "output_type": "execute_result"
    }
   ],
   "source": [
    "df[df.Flyers > flyers_u]"
   ]
  },
  {
   "cell_type": "markdown",
   "id": "e2d27b08",
   "metadata": {},
   "source": [
    "No outliers"
   ]
  },
  {
   "cell_type": "code",
   "execution_count": 39,
   "id": "9e621eb4",
   "metadata": {},
   "outputs": [
    {
     "data": {
      "text/html": [
       "<div>\n",
       "<style scoped>\n",
       "    .dataframe tbody tr th:only-of-type {\n",
       "        vertical-align: middle;\n",
       "    }\n",
       "\n",
       "    .dataframe tbody tr th {\n",
       "        vertical-align: top;\n",
       "    }\n",
       "\n",
       "    .dataframe thead th {\n",
       "        text-align: right;\n",
       "    }\n",
       "</style>\n",
       "<table border=\"1\" class=\"dataframe\">\n",
       "  <thead>\n",
       "    <tr style=\"text-align: right;\">\n",
       "      <th></th>\n",
       "      <th>Date</th>\n",
       "      <th>Day</th>\n",
       "      <th>Temperature</th>\n",
       "      <th>Rainfall</th>\n",
       "      <th>Flyers</th>\n",
       "      <th>Price</th>\n",
       "      <th>Sales</th>\n",
       "    </tr>\n",
       "  </thead>\n",
       "  <tbody>\n",
       "  </tbody>\n",
       "</table>\n",
       "</div>"
      ],
      "text/plain": [
       "Empty DataFrame\n",
       "Columns: [Date, Day, Temperature, Rainfall, Flyers, Price, Sales]\n",
       "Index: []"
      ]
     },
     "execution_count": 39,
     "metadata": {},
     "output_type": "execute_result"
    }
   ],
   "source": [
    "df[df.Price > price_u]"
   ]
  },
  {
   "cell_type": "markdown",
   "id": "3823231e",
   "metadata": {},
   "source": [
    "No outliers"
   ]
  },
  {
   "cell_type": "code",
   "execution_count": 40,
   "id": "8fc437f2",
   "metadata": {},
   "outputs": [
    {
     "data": {
      "text/html": [
       "<div>\n",
       "<style scoped>\n",
       "    .dataframe tbody tr th:only-of-type {\n",
       "        vertical-align: middle;\n",
       "    }\n",
       "\n",
       "    .dataframe tbody tr th {\n",
       "        vertical-align: top;\n",
       "    }\n",
       "\n",
       "    .dataframe thead th {\n",
       "        text-align: right;\n",
       "    }\n",
       "</style>\n",
       "<table border=\"1\" class=\"dataframe\">\n",
       "  <thead>\n",
       "    <tr style=\"text-align: right;\">\n",
       "      <th></th>\n",
       "      <th>Date</th>\n",
       "      <th>Day</th>\n",
       "      <th>Temperature</th>\n",
       "      <th>Rainfall</th>\n",
       "      <th>Flyers</th>\n",
       "      <th>Price</th>\n",
       "      <th>Sales</th>\n",
       "    </tr>\n",
       "  </thead>\n",
       "  <tbody>\n",
       "    <tr>\n",
       "      <th>181</th>\n",
       "      <td>7/1/17</td>\n",
       "      <td>Saturday</td>\n",
       "      <td>102.9</td>\n",
       "      <td>0.47</td>\n",
       "      <td>59</td>\n",
       "      <td>0.5</td>\n",
       "      <td>143</td>\n",
       "    </tr>\n",
       "    <tr>\n",
       "      <th>182</th>\n",
       "      <td>7/2/17</td>\n",
       "      <td>Sunday</td>\n",
       "      <td>93.4</td>\n",
       "      <td>0.51</td>\n",
       "      <td>68</td>\n",
       "      <td>0.5</td>\n",
       "      <td>158</td>\n",
       "    </tr>\n",
       "    <tr>\n",
       "      <th>183</th>\n",
       "      <td>7/3/17</td>\n",
       "      <td>Monday</td>\n",
       "      <td>81.5</td>\n",
       "      <td>0.54</td>\n",
       "      <td>68</td>\n",
       "      <td>0.5</td>\n",
       "      <td>235</td>\n",
       "    </tr>\n",
       "    <tr>\n",
       "      <th>184</th>\n",
       "      <td>7/4/17</td>\n",
       "      <td>Tuesday</td>\n",
       "      <td>84.2</td>\n",
       "      <td>0.59</td>\n",
       "      <td>49</td>\n",
       "      <td>0.5</td>\n",
       "      <td>534</td>\n",
       "    </tr>\n",
       "  </tbody>\n",
       "</table>\n",
       "</div>"
      ],
      "text/plain": [
       "       Date       Day  Temperature  Rainfall  Flyers  Price  Sales\n",
       "181  7/1/17  Saturday        102.9      0.47      59    0.5    143\n",
       "182  7/2/17    Sunday         93.4      0.51      68    0.5    158\n",
       "183  7/3/17    Monday         81.5      0.54      68    0.5    235\n",
       "184  7/4/17   Tuesday         84.2      0.59      49    0.5    534"
      ]
     },
     "execution_count": 40,
     "metadata": {},
     "output_type": "execute_result"
    }
   ],
   "source": [
    "df[df.Sales > sales_u]"
   ]
  },
  {
   "cell_type": "markdown",
   "id": "b54ca2b0",
   "metadata": {},
   "source": [
    "All done on a holiday, in good weather. Could be possible due to the event. Will keep"
   ]
  },
  {
   "cell_type": "markdown",
   "id": "2b8eae81",
   "metadata": {},
   "source": [
    "---"
   ]
  },
  {
   "cell_type": "markdown",
   "id": "a627e671",
   "metadata": {},
   "source": [
    "#### Identify if any columns in lemonade.csv are normally distributed. For normally distributed columns:"
   ]
  },
  {
   "cell_type": "code",
   "execution_count": 42,
   "id": "279c3cb4",
   "metadata": {},
   "outputs": [
    {
     "data": {
      "image/png": "[encoded data removed]",
      "text/plain": [
       "<Figure size 432x288 with 1 Axes>"
      ]
     },
     "metadata": {
      "needs_background": "light"
     },
     "output_type": "display_data"
    },
    {
     "data": {
      "image/png": "[encoded data removed]",
      "text/plain": [
       "<Figure size 432x288 with 1 Axes>"
      ]
     },
     "metadata": {
      "needs_background": "light"
     },
     "output_type": "display_data"
    },
    {
     "data": {
      "image/png": "[encoded data removed]",
      "text/plain": [
       "<Figure size 432x288 with 1 Axes>"
      ]
     },
     "metadata": {
      "needs_background": "light"
     },
     "output_type": "display_data"
    },
    {
     "data": {
      "image/png": "[encoded data removed]",
      "text/plain": [
       "<Figure size 432x288 with 1 Axes>"
      ]
     },
     "metadata": {
      "needs_background": "light"
     },
     "output_type": "display_data"
    },
    {
     "data": {
      "image/png": "[encoded data removed]",
      "text/plain": [
       "<Figure size 432x288 with 1 Axes>"
      ]
     },
     "metadata": {
      "needs_background": "light"
     },
     "output_type": "display_data"
    }
   ],
   "source": [
    "for col in df.columns[2:7]:\n",
    "    df[col].plot.hist(ec='black', bins=50, title= col)\n",
    "    plt.show()"
   ]
  },
  {
   "cell_type": "markdown",
   "id": "a3fd6423",
   "metadata": {},
   "source": [
    "Rainfall is close to being normally distributed but temperature and flyers are the only true normally distributed. "
   ]
  },
  {
   "cell_type": "code",
   "execution_count": 43,
   "id": "e62b349c",
   "metadata": {},
   "outputs": [],
   "source": [
    "# Calculate z scores for all numerical columns\n",
    "df['temp_zscore'] = (df.Temperature - df.Temperature.mean()) / df.Temperature.std()\n",
    "df['rainfall_zscore'] = (df.Rainfall - df.Rainfall.mean()) / df.Rainfall.std()\n",
    "df['flyers_zscore'] = (df.Flyers - df.Flyers.mean()) / df.Flyers.std()\n",
    "df['sales_zscore'] = (df.Sales - df.Sales.mean()) / df.Sales.std()"
   ]
  },
  {
   "cell_type": "markdown",
   "id": "ed4786fe",
   "metadata": {},
   "source": [
    "#### Use a 2 sigma decision rule to isolate the outliers.\n",
    "\n",
    "- Do these make sense?\n",
    "- Should certain outliers be kept or removed?"
   ]
  },
  {
   "cell_type": "code",
   "execution_count": 45,
   "id": "07fc7285",
   "metadata": {},
   "outputs": [
    {
     "data": {
      "text/html": [
       "<div>\n",
       "<style scoped>\n",
       "    .dataframe tbody tr th:only-of-type {\n",
       "        vertical-align: middle;\n",
       "    }\n",
       "\n",
       "    .dataframe tbody tr th {\n",
       "        vertical-align: top;\n",
       "    }\n",
       "\n",
       "    .dataframe thead th {\n",
       "        text-align: right;\n",
       "    }\n",
       "</style>\n",
       "<table border=\"1\" class=\"dataframe\">\n",
       "  <thead>\n",
       "    <tr style=\"text-align: right;\">\n",
       "      <th></th>\n",
       "      <th>Date</th>\n",
       "      <th>Day</th>\n",
       "      <th>Temperature</th>\n",
       "      <th>Rainfall</th>\n",
       "      <th>Flyers</th>\n",
       "      <th>Price</th>\n",
       "      <th>Sales</th>\n",
       "      <th>temp_zscore</th>\n",
       "      <th>rainfall_zscore</th>\n",
       "      <th>flyers_zscore</th>\n",
       "      <th>sales_zscore</th>\n",
       "    </tr>\n",
       "  </thead>\n",
       "  <tbody>\n",
       "    <tr>\n",
       "      <th>41</th>\n",
       "      <td>2/11/17</td>\n",
       "      <td>Saturday</td>\n",
       "      <td>212.0</td>\n",
       "      <td>0.91</td>\n",
       "      <td>35</td>\n",
       "      <td>0.5</td>\n",
       "      <td>21</td>\n",
       "      <td>8.336627</td>\n",
       "      <td>0.306792</td>\n",
       "      <td>-0.370227</td>\n",
       "      <td>-0.221847</td>\n",
       "    </tr>\n",
       "    <tr>\n",
       "      <th>166</th>\n",
       "      <td>6/16/17</td>\n",
       "      <td>Friday</td>\n",
       "      <td>99.3</td>\n",
       "      <td>0.47</td>\n",
       "      <td>77</td>\n",
       "      <td>0.5</td>\n",
       "      <td>41</td>\n",
       "      <td>2.105251</td>\n",
       "      <td>-1.299691</td>\n",
       "      <td>2.676244</td>\n",
       "      <td>0.424395</td>\n",
       "    </tr>\n",
       "    <tr>\n",
       "      <th>176</th>\n",
       "      <td>6/26/17</td>\n",
       "      <td>Monday</td>\n",
       "      <td>102.6</td>\n",
       "      <td>0.47</td>\n",
       "      <td>60</td>\n",
       "      <td>0.5</td>\n",
       "      <td>42</td>\n",
       "      <td>2.287714</td>\n",
       "      <td>-1.299691</td>\n",
       "      <td>1.443149</td>\n",
       "      <td>0.456708</td>\n",
       "    </tr>\n",
       "    <tr>\n",
       "      <th>181</th>\n",
       "      <td>7/1/17</td>\n",
       "      <td>Saturday</td>\n",
       "      <td>102.9</td>\n",
       "      <td>0.47</td>\n",
       "      <td>59</td>\n",
       "      <td>0.5</td>\n",
       "      <td>143</td>\n",
       "      <td>2.304301</td>\n",
       "      <td>-1.299691</td>\n",
       "      <td>1.370614</td>\n",
       "      <td>3.720233</td>\n",
       "    </tr>\n",
       "    <tr>\n",
       "      <th>190</th>\n",
       "      <td>7/10/17</td>\n",
       "      <td>Monday</td>\n",
       "      <td>98.0</td>\n",
       "      <td>0.49</td>\n",
       "      <td>66</td>\n",
       "      <td>0.5</td>\n",
       "      <td>40</td>\n",
       "      <td>2.033372</td>\n",
       "      <td>-1.226669</td>\n",
       "      <td>1.878359</td>\n",
       "      <td>0.392083</td>\n",
       "    </tr>\n",
       "    <tr>\n",
       "      <th>198</th>\n",
       "      <td>7/18/17</td>\n",
       "      <td>Tuesday</td>\n",
       "      <td>99.3</td>\n",
       "      <td>0.47</td>\n",
       "      <td>76</td>\n",
       "      <td>0.5</td>\n",
       "      <td>41</td>\n",
       "      <td>2.105251</td>\n",
       "      <td>-1.299691</td>\n",
       "      <td>2.603709</td>\n",
       "      <td>0.424395</td>\n",
       "    </tr>\n",
       "    <tr>\n",
       "      <th>202</th>\n",
       "      <td>7/22/17</td>\n",
       "      <td>Saturday</td>\n",
       "      <td>99.6</td>\n",
       "      <td>0.47</td>\n",
       "      <td>49</td>\n",
       "      <td>0.5</td>\n",
       "      <td>42</td>\n",
       "      <td>2.121838</td>\n",
       "      <td>-1.299691</td>\n",
       "      <td>0.645264</td>\n",
       "      <td>0.456708</td>\n",
       "    </tr>\n",
       "    <tr>\n",
       "      <th>207</th>\n",
       "      <td>7/27/17</td>\n",
       "      <td>Thursday</td>\n",
       "      <td>97.9</td>\n",
       "      <td>0.47</td>\n",
       "      <td>74</td>\n",
       "      <td>0.5</td>\n",
       "      <td>43</td>\n",
       "      <td>2.027843</td>\n",
       "      <td>-1.299691</td>\n",
       "      <td>2.458639</td>\n",
       "      <td>0.489020</td>\n",
       "    </tr>\n",
       "    <tr>\n",
       "      <th>338</th>\n",
       "      <td>12/5/17</td>\n",
       "      <td>Tuesday</td>\n",
       "      <td>22.0</td>\n",
       "      <td>1.82</td>\n",
       "      <td>11</td>\n",
       "      <td>0.5</td>\n",
       "      <td>10</td>\n",
       "      <td>-2.168799</td>\n",
       "      <td>3.629291</td>\n",
       "      <td>-2.111067</td>\n",
       "      <td>-0.577281</td>\n",
       "    </tr>\n",
       "    <tr>\n",
       "      <th>364</th>\n",
       "      <td>12/31/17</td>\n",
       "      <td>Sunday</td>\n",
       "      <td>15.1</td>\n",
       "      <td>2.50</td>\n",
       "      <td>9</td>\n",
       "      <td>0.5</td>\n",
       "      <td>7</td>\n",
       "      <td>-2.550311</td>\n",
       "      <td>6.112037</td>\n",
       "      <td>-2.256137</td>\n",
       "      <td>-0.674217</td>\n",
       "    </tr>\n",
       "  </tbody>\n",
       "</table>\n",
       "</div>"
      ],
      "text/plain": [
       "         Date       Day  Temperature  Rainfall  Flyers  Price  Sales  \\\n",
       "41    2/11/17  Saturday        212.0      0.91      35    0.5     21   \n",
       "166   6/16/17    Friday         99.3      0.47      77    0.5     41   \n",
       "176   6/26/17    Monday        102.6      0.47      60    0.5     42   \n",
       "181    7/1/17  Saturday        102.9      0.47      59    0.5    143   \n",
       "190   7/10/17    Monday         98.0      0.49      66    0.5     40   \n",
       "198   7/18/17   Tuesday         99.3      0.47      76    0.5     41   \n",
       "202   7/22/17  Saturday         99.6      0.47      49    0.5     42   \n",
       "207   7/27/17  Thursday         97.9      0.47      74    0.5     43   \n",
       "338   12/5/17   Tuesday         22.0      1.82      11    0.5     10   \n",
       "364  12/31/17    Sunday         15.1      2.50       9    0.5      7   \n",
       "\n",
       "     temp_zscore  rainfall_zscore  flyers_zscore  sales_zscore  \n",
       "41      8.336627         0.306792      -0.370227     -0.221847  \n",
       "166     2.105251        -1.299691       2.676244      0.424395  \n",
       "176     2.287714        -1.299691       1.443149      0.456708  \n",
       "181     2.304301        -1.299691       1.370614      3.720233  \n",
       "190     2.033372        -1.226669       1.878359      0.392083  \n",
       "198     2.105251        -1.299691       2.603709      0.424395  \n",
       "202     2.121838        -1.299691       0.645264      0.456708  \n",
       "207     2.027843        -1.299691       2.458639      0.489020  \n",
       "338    -2.168799         3.629291      -2.111067     -0.577281  \n",
       "364    -2.550311         6.112037      -2.256137     -0.674217  "
      ]
     },
     "execution_count": 45,
     "metadata": {},
     "output_type": "execute_result"
    }
   ],
   "source": [
    "df[df['temp_zscore'].abs() > 2]"
   ]
  },
  {
   "cell_type": "markdown",
   "id": "8957eb89",
   "metadata": {},
   "source": [
    "212 temperature is still in the dataset and should be removed. Else everything else is perfectly normal."
   ]
  },
  {
   "cell_type": "code",
   "execution_count": 46,
   "id": "1e488ad6",
   "metadata": {},
   "outputs": [
    {
     "data": {
      "text/html": [
       "<div>\n",
       "<style scoped>\n",
       "    .dataframe tbody tr th:only-of-type {\n",
       "        vertical-align: middle;\n",
       "    }\n",
       "\n",
       "    .dataframe tbody tr th {\n",
       "        vertical-align: top;\n",
       "    }\n",
       "\n",
       "    .dataframe thead th {\n",
       "        text-align: right;\n",
       "    }\n",
       "</style>\n",
       "<table border=\"1\" class=\"dataframe\">\n",
       "  <thead>\n",
       "    <tr style=\"text-align: right;\">\n",
       "      <th></th>\n",
       "      <th>Date</th>\n",
       "      <th>Day</th>\n",
       "      <th>Temperature</th>\n",
       "      <th>Rainfall</th>\n",
       "      <th>Flyers</th>\n",
       "      <th>Price</th>\n",
       "      <th>Sales</th>\n",
       "      <th>temp_zscore</th>\n",
       "      <th>rainfall_zscore</th>\n",
       "      <th>flyers_zscore</th>\n",
       "      <th>sales_zscore</th>\n",
       "    </tr>\n",
       "  </thead>\n",
       "  <tbody>\n",
       "    <tr>\n",
       "      <th>166</th>\n",
       "      <td>6/16/17</td>\n",
       "      <td>Friday</td>\n",
       "      <td>99.3</td>\n",
       "      <td>0.47</td>\n",
       "      <td>77</td>\n",
       "      <td>0.5</td>\n",
       "      <td>41</td>\n",
       "      <td>2.105251</td>\n",
       "      <td>-1.299691</td>\n",
       "      <td>2.676244</td>\n",
       "      <td>0.424395</td>\n",
       "    </tr>\n",
       "    <tr>\n",
       "      <th>170</th>\n",
       "      <td>6/20/17</td>\n",
       "      <td>Tuesday</td>\n",
       "      <td>85.1</td>\n",
       "      <td>0.54</td>\n",
       "      <td>70</td>\n",
       "      <td>0.5</td>\n",
       "      <td>37</td>\n",
       "      <td>1.320109</td>\n",
       "      <td>-1.044114</td>\n",
       "      <td>2.168499</td>\n",
       "      <td>0.295147</td>\n",
       "    </tr>\n",
       "    <tr>\n",
       "      <th>171</th>\n",
       "      <td>6/21/17</td>\n",
       "      <td>Wednesday</td>\n",
       "      <td>94.3</td>\n",
       "      <td>0.47</td>\n",
       "      <td>76</td>\n",
       "      <td>0.5</td>\n",
       "      <td>41</td>\n",
       "      <td>1.828792</td>\n",
       "      <td>-1.299691</td>\n",
       "      <td>2.603709</td>\n",
       "      <td>0.424395</td>\n",
       "    </tr>\n",
       "    <tr>\n",
       "      <th>182</th>\n",
       "      <td>7/2/17</td>\n",
       "      <td>Sunday</td>\n",
       "      <td>93.4</td>\n",
       "      <td>0.51</td>\n",
       "      <td>68</td>\n",
       "      <td>0.5</td>\n",
       "      <td>158</td>\n",
       "      <td>1.779030</td>\n",
       "      <td>-1.153647</td>\n",
       "      <td>2.023429</td>\n",
       "      <td>4.204914</td>\n",
       "    </tr>\n",
       "    <tr>\n",
       "      <th>183</th>\n",
       "      <td>7/3/17</td>\n",
       "      <td>Monday</td>\n",
       "      <td>81.5</td>\n",
       "      <td>0.54</td>\n",
       "      <td>68</td>\n",
       "      <td>0.5</td>\n",
       "      <td>235</td>\n",
       "      <td>1.121058</td>\n",
       "      <td>-1.044114</td>\n",
       "      <td>2.023429</td>\n",
       "      <td>6.692948</td>\n",
       "    </tr>\n",
       "    <tr>\n",
       "      <th>194</th>\n",
       "      <td>7/14/17</td>\n",
       "      <td>Friday</td>\n",
       "      <td>92.0</td>\n",
       "      <td>0.50</td>\n",
       "      <td>80</td>\n",
       "      <td>0.5</td>\n",
       "      <td>40</td>\n",
       "      <td>1.701621</td>\n",
       "      <td>-1.190158</td>\n",
       "      <td>2.893849</td>\n",
       "      <td>0.392083</td>\n",
       "    </tr>\n",
       "    <tr>\n",
       "      <th>198</th>\n",
       "      <td>7/18/17</td>\n",
       "      <td>Tuesday</td>\n",
       "      <td>99.3</td>\n",
       "      <td>0.47</td>\n",
       "      <td>76</td>\n",
       "      <td>0.5</td>\n",
       "      <td>41</td>\n",
       "      <td>2.105251</td>\n",
       "      <td>-1.299691</td>\n",
       "      <td>2.603709</td>\n",
       "      <td>0.424395</td>\n",
       "    </tr>\n",
       "    <tr>\n",
       "      <th>203</th>\n",
       "      <td>7/23/17</td>\n",
       "      <td>Sunday</td>\n",
       "      <td>89.1</td>\n",
       "      <td>0.51</td>\n",
       "      <td>72</td>\n",
       "      <td>0.5</td>\n",
       "      <td>37</td>\n",
       "      <td>1.541275</td>\n",
       "      <td>-1.153647</td>\n",
       "      <td>2.313569</td>\n",
       "      <td>0.295147</td>\n",
       "    </tr>\n",
       "    <tr>\n",
       "      <th>204</th>\n",
       "      <td>7/24/17</td>\n",
       "      <td>Monday</td>\n",
       "      <td>83.5</td>\n",
       "      <td>0.57</td>\n",
       "      <td>69</td>\n",
       "      <td>0.5</td>\n",
       "      <td>35</td>\n",
       "      <td>1.231642</td>\n",
       "      <td>-0.934581</td>\n",
       "      <td>2.095964</td>\n",
       "      <td>0.230523</td>\n",
       "    </tr>\n",
       "    <tr>\n",
       "      <th>207</th>\n",
       "      <td>7/27/17</td>\n",
       "      <td>Thursday</td>\n",
       "      <td>97.9</td>\n",
       "      <td>0.47</td>\n",
       "      <td>74</td>\n",
       "      <td>0.5</td>\n",
       "      <td>43</td>\n",
       "      <td>2.027843</td>\n",
       "      <td>-1.299691</td>\n",
       "      <td>2.458639</td>\n",
       "      <td>0.489020</td>\n",
       "    </tr>\n",
       "    <tr>\n",
       "      <th>324</th>\n",
       "      <td>11/21/17</td>\n",
       "      <td>Tuesday</td>\n",
       "      <td>47.0</td>\n",
       "      <td>0.95</td>\n",
       "      <td>-38</td>\n",
       "      <td>0.5</td>\n",
       "      <td>20</td>\n",
       "      <td>-0.786506</td>\n",
       "      <td>0.452836</td>\n",
       "      <td>-5.665283</td>\n",
       "      <td>-0.254159</td>\n",
       "    </tr>\n",
       "    <tr>\n",
       "      <th>338</th>\n",
       "      <td>12/5/17</td>\n",
       "      <td>Tuesday</td>\n",
       "      <td>22.0</td>\n",
       "      <td>1.82</td>\n",
       "      <td>11</td>\n",
       "      <td>0.5</td>\n",
       "      <td>10</td>\n",
       "      <td>-2.168799</td>\n",
       "      <td>3.629291</td>\n",
       "      <td>-2.111067</td>\n",
       "      <td>-0.577281</td>\n",
       "    </tr>\n",
       "    <tr>\n",
       "      <th>364</th>\n",
       "      <td>12/31/17</td>\n",
       "      <td>Sunday</td>\n",
       "      <td>15.1</td>\n",
       "      <td>2.50</td>\n",
       "      <td>9</td>\n",
       "      <td>0.5</td>\n",
       "      <td>7</td>\n",
       "      <td>-2.550311</td>\n",
       "      <td>6.112037</td>\n",
       "      <td>-2.256137</td>\n",
       "      <td>-0.674217</td>\n",
       "    </tr>\n",
       "  </tbody>\n",
       "</table>\n",
       "</div>"
      ],
      "text/plain": [
       "         Date        Day  Temperature  Rainfall  Flyers  Price  Sales  \\\n",
       "166   6/16/17     Friday         99.3      0.47      77    0.5     41   \n",
       "170   6/20/17    Tuesday         85.1      0.54      70    0.5     37   \n",
       "171   6/21/17  Wednesday         94.3      0.47      76    0.5     41   \n",
       "182    7/2/17     Sunday         93.4      0.51      68    0.5    158   \n",
       "183    7/3/17     Monday         81.5      0.54      68    0.5    235   \n",
       "194   7/14/17     Friday         92.0      0.50      80    0.5     40   \n",
       "198   7/18/17    Tuesday         99.3      0.47      76    0.5     41   \n",
       "203   7/23/17     Sunday         89.1      0.51      72    0.5     37   \n",
       "204   7/24/17     Monday         83.5      0.57      69    0.5     35   \n",
       "207   7/27/17   Thursday         97.9      0.47      74    0.5     43   \n",
       "324  11/21/17    Tuesday         47.0      0.95     -38    0.5     20   \n",
       "338   12/5/17    Tuesday         22.0      1.82      11    0.5     10   \n",
       "364  12/31/17     Sunday         15.1      2.50       9    0.5      7   \n",
       "\n",
       "     temp_zscore  rainfall_zscore  flyers_zscore  sales_zscore  \n",
       "166     2.105251        -1.299691       2.676244      0.424395  \n",
       "170     1.320109        -1.044114       2.168499      0.295147  \n",
       "171     1.828792        -1.299691       2.603709      0.424395  \n",
       "182     1.779030        -1.153647       2.023429      4.204914  \n",
       "183     1.121058        -1.044114       2.023429      6.692948  \n",
       "194     1.701621        -1.190158       2.893849      0.392083  \n",
       "198     2.105251        -1.299691       2.603709      0.424395  \n",
       "203     1.541275        -1.153647       2.313569      0.295147  \n",
       "204     1.231642        -0.934581       2.095964      0.230523  \n",
       "207     2.027843        -1.299691       2.458639      0.489020  \n",
       "324    -0.786506         0.452836      -5.665283     -0.254159  \n",
       "338    -2.168799         3.629291      -2.111067     -0.577281  \n",
       "364    -2.550311         6.112037      -2.256137     -0.674217  "
      ]
     },
     "execution_count": 46,
     "metadata": {},
     "output_type": "execute_result"
    }
   ],
   "source": [
    "df[df['flyers_zscore'].abs() >= 2]"
   ]
  },
  {
   "cell_type": "markdown",
   "id": "3b8ae04a",
   "metadata": {},
   "source": [
    "Negative 38 is still kept, and should be removed. Else all else are perfectly normal."
   ]
  },
  {
   "cell_type": "markdown",
   "id": "68060d3f",
   "metadata": {},
   "source": [
    "---"
   ]
  },
  {
   "cell_type": "markdown",
   "id": "5b2fddf7",
   "metadata": {},
   "source": [
    "Now use a 3 sigma decision rule to isolate the outliers in the normally distributed columns from lemonade.csv"
   ]
  },
  {
   "cell_type": "code",
   "execution_count": 47,
   "id": "8d797979",
   "metadata": {},
   "outputs": [
    {
     "data": {
      "text/html": [
       "<div>\n",
       "<style scoped>\n",
       "    .dataframe tbody tr th:only-of-type {\n",
       "        vertical-align: middle;\n",
       "    }\n",
       "\n",
       "    .dataframe tbody tr th {\n",
       "        vertical-align: top;\n",
       "    }\n",
       "\n",
       "    .dataframe thead th {\n",
       "        text-align: right;\n",
       "    }\n",
       "</style>\n",
       "<table border=\"1\" class=\"dataframe\">\n",
       "  <thead>\n",
       "    <tr style=\"text-align: right;\">\n",
       "      <th></th>\n",
       "      <th>Date</th>\n",
       "      <th>Day</th>\n",
       "      <th>Temperature</th>\n",
       "      <th>Rainfall</th>\n",
       "      <th>Flyers</th>\n",
       "      <th>Price</th>\n",
       "      <th>Sales</th>\n",
       "      <th>temp_zscore</th>\n",
       "      <th>rainfall_zscore</th>\n",
       "      <th>flyers_zscore</th>\n",
       "      <th>sales_zscore</th>\n",
       "    </tr>\n",
       "  </thead>\n",
       "  <tbody>\n",
       "    <tr>\n",
       "      <th>41</th>\n",
       "      <td>2/11/17</td>\n",
       "      <td>Saturday</td>\n",
       "      <td>212.0</td>\n",
       "      <td>0.91</td>\n",
       "      <td>35</td>\n",
       "      <td>0.5</td>\n",
       "      <td>21</td>\n",
       "      <td>8.336627</td>\n",
       "      <td>0.306792</td>\n",
       "      <td>-0.370227</td>\n",
       "      <td>-0.221847</td>\n",
       "    </tr>\n",
       "  </tbody>\n",
       "</table>\n",
       "</div>"
      ],
      "text/plain": [
       "       Date       Day  Temperature  Rainfall  Flyers  Price  Sales  \\\n",
       "41  2/11/17  Saturday        212.0      0.91      35    0.5     21   \n",
       "\n",
       "    temp_zscore  rainfall_zscore  flyers_zscore  sales_zscore  \n",
       "41     8.336627         0.306792      -0.370227     -0.221847  "
      ]
     },
     "execution_count": 47,
     "metadata": {},
     "output_type": "execute_result"
    }
   ],
   "source": [
    "df[df['temp_zscore'].abs() >= 3]"
   ]
  },
  {
   "cell_type": "markdown",
   "id": "b36d6194",
   "metadata": {},
   "source": [
    "Remove"
   ]
  },
  {
   "cell_type": "code",
   "execution_count": 50,
   "id": "48eb86c8",
   "metadata": {},
   "outputs": [
    {
     "data": {
      "text/html": [
       "<div>\n",
       "<style scoped>\n",
       "    .dataframe tbody tr th:only-of-type {\n",
       "        vertical-align: middle;\n",
       "    }\n",
       "\n",
       "    .dataframe tbody tr th {\n",
       "        vertical-align: top;\n",
       "    }\n",
       "\n",
       "    .dataframe thead th {\n",
       "        text-align: right;\n",
       "    }\n",
       "</style>\n",
       "<table border=\"1\" class=\"dataframe\">\n",
       "  <thead>\n",
       "    <tr style=\"text-align: right;\">\n",
       "      <th></th>\n",
       "      <th>Date</th>\n",
       "      <th>Day</th>\n",
       "      <th>Temperature</th>\n",
       "      <th>Rainfall</th>\n",
       "      <th>Flyers</th>\n",
       "      <th>Price</th>\n",
       "      <th>Sales</th>\n",
       "      <th>temp_zscore</th>\n",
       "      <th>rainfall_zscore</th>\n",
       "      <th>flyers_zscore</th>\n",
       "      <th>sales_zscore</th>\n",
       "    </tr>\n",
       "  </thead>\n",
       "  <tbody>\n",
       "    <tr>\n",
       "      <th>324</th>\n",
       "      <td>11/21/17</td>\n",
       "      <td>Tuesday</td>\n",
       "      <td>47.0</td>\n",
       "      <td>0.95</td>\n",
       "      <td>-38</td>\n",
       "      <td>0.5</td>\n",
       "      <td>20</td>\n",
       "      <td>-0.786506</td>\n",
       "      <td>0.452836</td>\n",
       "      <td>-5.665283</td>\n",
       "      <td>-0.254159</td>\n",
       "    </tr>\n",
       "  </tbody>\n",
       "</table>\n",
       "</div>"
      ],
      "text/plain": [
       "         Date      Day  Temperature  Rainfall  Flyers  Price  Sales  \\\n",
       "324  11/21/17  Tuesday         47.0      0.95     -38    0.5     20   \n",
       "\n",
       "     temp_zscore  rainfall_zscore  flyers_zscore  sales_zscore  \n",
       "324    -0.786506         0.452836      -5.665283     -0.254159  "
      ]
     },
     "execution_count": 50,
     "metadata": {},
     "output_type": "execute_result"
    }
   ],
   "source": [
    "df[df['flyers_zscore'].abs() >= 3]"
   ]
  },
  {
   "cell_type": "markdown",
   "id": "d160dc19",
   "metadata": {},
   "source": [
    "Remove."
   ]
  },
  {
   "cell_type": "markdown",
   "id": "c815cc99",
   "metadata": {},
   "source": [
    "### Takeaway: \n",
    "Sigma 3 seemed to give a direct identification for the outlier. Might be useful in isolating outliers. "
   ]
  },
  {
   "cell_type": "code",
   "execution_count": null,
   "id": "4a078836",
   "metadata": {},
   "outputs": [],
   "source": []
  }
 ],
 "metadata": {
  "kernelspec": {
   "display_name": "Python 3 (ipykernel)",
   "language": "python",
   "name": "python3"
  },
  "language_info": {
   "codemirror_mode": {
    "name": "ipython",
    "version": 3
   },
   "file_extension": ".py",
   "mimetype": "text/x-python",
   "name": "python",
   "nbconvert_exporter": "python",
   "pygments_lexer": "ipython3",
   "version": "3.9.7"
  }
 },
 "nbformat": 4,
 "nbformat_minor": 5
}
